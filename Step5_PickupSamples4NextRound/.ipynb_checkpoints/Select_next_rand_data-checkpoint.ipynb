{
 "cells": [
  {
   "cell_type": "code",
   "execution_count": 1,
   "metadata": {},
   "outputs": [],
   "source": [
    "%reload_ext autoreload\n",
    "%autoreload 2\n",
    "import os, sys\n",
    "os.environ[\"CUDA_DEVICE_ORDER\"]=\"PCI_BUS_ID\"\n",
    "os.environ[\"CUDA_VISIBLE_DEVICES\"]=\"5\"  # specify which GPU(s) to be used\n",
    "import torch\n",
    "import torch.nn as nn\n",
    "import numpy as np\n",
    "from tqdm import tqdm_notebook as tqdm\n",
    "from sklearn.decomposition import PCA\n",
    "from sklearn.manifold import TSNE\n",
    "import seaborn as sns\n",
    "import pandas as pd\n",
    "import time\n",
    "import matplotlib.pyplot as plt\n",
    "import pickle as pkl"
   ]
  },
  {
   "cell_type": "code",
   "execution_count": 55,
   "metadata": {},
   "outputs": [],
   "source": [
    "# fold = 3\n",
    "# portion = 10\n",
    "for portion in [20,30,40,50,60,70,80,90]:\n",
    "    for fold in [0,1,2,3]:\n",
    "        mode = f\"random_{portion}idx\"\n",
    "        percent = 0.1\n",
    "        csv_file = \"../Train_Data.csv\"\n",
    "        df = pd.read_csv(csv_file)\n",
    "        df_train_fold = df.loc[df[\"split\"] != fold]\n",
    "        total_train_samples = len(df_train_fold)\n",
    "        idx_in_pool = set(np.load(f\"../Idxs/{mode}_{fold}.npy\"))\n",
    "        idxs_to_choose = set(df_train_fold[\"image_idx\"].to_numpy())\n",
    "        idxs_to_choose_ = list(idxs_to_choose.difference(idx_in_pool))\n",
    "        np.random.seed(2020)\n",
    "        idxs = np.random.choice(idxs_to_choose_, int(percent * total_train_samples), replace=False)\n",
    "        idxs_update = list(idx_in_pool) + list(idxs)\n",
    "        np.save(f\"../Idxs/random_{portion + 10}idx_{fold}.npy\", idxs_update)"
   ]
  }
 ],
 "metadata": {
  "kernelspec": {
   "display_name": "Python 3",
   "language": "python",
   "name": "python3"
  },
  "language_info": {
   "codemirror_mode": {
    "name": "ipython",
    "version": 3
   },
   "file_extension": ".py",
   "mimetype": "text/x-python",
   "name": "python",
   "nbconvert_exporter": "python",
   "pygments_lexer": "ipython3",
   "version": "3.6.8"
  }
 },
 "nbformat": 4,
 "nbformat_minor": 4
}
