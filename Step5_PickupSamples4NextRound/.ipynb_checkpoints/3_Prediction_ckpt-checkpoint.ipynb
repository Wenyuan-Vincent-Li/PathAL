{
 "cells": [
  {
   "cell_type": "code",
   "execution_count": 1,
   "metadata": {},
   "outputs": [],
   "source": [
    "## system package\n",
    "%reload_ext autoreload\n",
    "%autoreload 2\n",
    "%matplotlib inline\n",
    "import os, sys\n",
    "os.environ[\"CUDA_DEVICE_ORDER\"]=\"PCI_BUS_ID\"\n",
    "os.environ[\"CUDA_VISIBLE_DEVICES\"]=\"5\"  # specify which GPU(s) to be used\n",
    "sys.path.append('../Step4_Training/')\n",
    "sys.path.append('../')\n",
    "\n",
    "from pathlib import Path\n",
    "import warnings\n",
    "warnings.filterwarnings(\"ignore\")\n",
    "import numpy as np\n",
    "import pandas as pd\n",
    "import matplotlib.pyplot as plt\n",
    "from tqdm.notebook import tqdm_notebook as tqdm\n",
    "from sklearn.metrics import cohen_kappa_score\n",
    "\n",
    "from input.inputPipeline_stiching import data_transform, PandaPatchDataset, crossValDataloader\n",
    "from utiles.radam import *\n",
    "from utiles.utils import *\n",
    "from utiles.flatten_cosanneal import *\n",
    "from Model.efficientnet.model import EfficientNet as Model"
   ]
  },
  {
   "cell_type": "code",
   "execution_count": 2,
   "metadata": {},
   "outputs": [],
   "source": [
    "csv_file = '../Train_Data.csv'\n",
    "data_dir = '../../tile_concat_wy/input/panda-36x256x256-tiles-data-opt/train'\n",
    "df = pd.read_csv(csv_file)"
   ]
  },
  {
   "cell_type": "code",
   "execution_count": 5,
   "metadata": {},
   "outputs": [],
   "source": [
    "mode = \"curriculum_easy_10idx\"\n",
    "fold = 0\n",
    "record_stats = np.load(f\"../Step4_Training/runs/train_ranked_sample_loss_{fold}_{mode}.npy\") #(N, imageidx + mean_loss + loss in each epoch)\n",
    "# record_stats = np.load(f\"../Step4_Training/runs/unlabel_ranked_sample_entropy_{fold}_{mode}.npy\")\n",
    "idx = record_stats[:,0]"
   ]
  },
  {
   "cell_type": "code",
   "execution_count": 6,
   "metadata": {},
   "outputs": [],
   "source": [
    "sz = 256\n",
    "bs = 6\n",
    "tsfm = None\n",
    "dataset = PandaPatchDataset(csv_file, data_dir, sz, transform=tsfm, N = 36, rand = False)\n",
    "dataset_sub = torch.utils.data.Subset(dataset, idx)\n",
    "dataloader = torch.utils.data.DataLoader(dataset_sub, batch_size = bs, shuffle = False, num_workers = 4, pin_memory=True)"
   ]
  },
  {
   "cell_type": "code",
   "execution_count": 7,
   "metadata": {},
   "outputs": [
    {
     "name": "stdout",
     "output_type": "stream",
     "text": [
      "Loaded pretrained weights for efficientnet-b0\n"
     ]
    },
    {
     "data": {
      "text/plain": [
       "<All keys matched successfully>"
      ]
     },
     "execution_count": 7,
     "metadata": {},
     "output_type": "execute_result"
    }
   ],
   "source": [
    "model = Model.from_pretrained('efficientnet-b0', num_classes = 5).cuda()\n",
    "model_path = f'../Step4_Training/weights/Resnext50_36patch_constant_lr_{mode}/Resnext50_36patch_constant_lr_{mode}_{fold}_best.pth.tar'\n",
    "pretrained_dict = torch.load(model_path)\n",
    "# pretrained_dict = pretrained_dict['state_dict']\n",
    "model_dict = model.state_dict()\n",
    "pretrained_dict = {k: v for k, v in pretrained_dict.items() if k in model_dict}\n",
    "model_dict.update(pretrained_dict)\n",
    "model.load_state_dict(pretrained_dict)"
   ]
  },
  {
   "cell_type": "code",
   "execution_count": 8,
   "metadata": {},
   "outputs": [
    {
     "data": {
      "application/vnd.jupyter.widget-view+json": {
       "model_id": "599ebafec8c948c1873dc140fc89617b",
       "version_major": 2,
       "version_minor": 0
      },
      "text/plain": [
       "HBox(children=(FloatProgress(value=0.0, max=124.0), HTML(value='')))"
      ]
     },
     "metadata": {},
     "output_type": "display_data"
    },
    {
     "name": "stdout",
     "output_type": "stream",
     "text": [
      "\n"
     ]
    }
   ],
   "source": [
    "predictions = []\n",
    "img_idxs = []\n",
    "gth = []\n",
    "model.eval()\n",
    "for i, data in enumerate(tqdm(dataloader)):\n",
    "    with torch.no_grad():\n",
    "        img, img_idx, grade = data['img'].cuda().float(), data['idx'], data['isup_grade']\n",
    "        preds = model(img)\n",
    "        preds = preds.sigmoid().sum(1).round().cpu()\n",
    "        predictions.append(preds)\n",
    "        img_idxs.append(img_idx)\n",
    "        gth.append(grade.sum(1))\n",
    "#         if i == 3:\n",
    "#             break"
   ]
  },
  {
   "cell_type": "code",
   "execution_count": 10,
   "metadata": {},
   "outputs": [],
   "source": [
    "predictions_ = torch.cat(predictions).numpy()\n",
    "img_idxs_ = torch.cat(img_idxs).numpy()\n",
    "gth_ = torch.cat(gth).numpy()"
   ]
  },
  {
   "cell_type": "code",
   "execution_count": 13,
   "metadata": {},
   "outputs": [
    {
     "name": "stdout",
     "output_type": "stream",
     "text": [
      "0.5701839303000968 74\n",
      "0.7989130434782609 74\n",
      "0.8808018136260589 148\n",
      "0.9508623551819945 148\n",
      "0.9485396383866481 148\n",
      "0.9401681759379042 148\n"
     ]
    }
   ],
   "source": [
    "plotrange = [0, 0.1, 0.2, 0.4, 0.6, 0.8, 1]\n",
    "# plotrange = [0, 1]\n",
    "\n",
    "for i in range(1, len(plotrange)):\n",
    "    start, end = int(plotrange[i-1] * len(predictions_)), int(plotrange[i] * len(predictions_))\n",
    "    preds = predictions_[start:end]\n",
    "    gths = gth_[start:end]\n",
    "    kappa = cohen_kappa_score(preds, gths, weights=\"quadratic\")\n",
    "    print(kappa, len(gths))"
   ]
  },
  {
   "cell_type": "code",
   "execution_count": 43,
   "metadata": {},
   "outputs": [
    {
     "name": "stdout",
     "output_type": "stream",
     "text": [
      "0.9653642310502152 814\n"
     ]
    }
   ],
   "source": [
    "preds = predictions_[-(740 + 74):]\n",
    "gths = gth_[-(740 + 74):]\n",
    "kappa = cohen_kappa_score(preds, gths, weights=\"quadratic\")\n",
    "print(kappa, len(gths))"
   ]
  },
  {
   "cell_type": "code",
   "execution_count": null,
   "metadata": {},
   "outputs": [],
   "source": [
    "train_idx = list(np.load(f\"../Idxs/{mode}_{fold}.npy\"))"
   ]
  },
  {
   "cell_type": "code",
   "execution_count": null,
   "metadata": {},
   "outputs": [],
   "source": [
    "set(train_idx) == set(img_idxs_)"
   ]
  }
 ],
 "metadata": {
  "kernelspec": {
   "display_name": "Python 3",
   "language": "python",
   "name": "python3"
  },
  "language_info": {
   "codemirror_mode": {
    "name": "ipython",
    "version": 3
   },
   "file_extension": ".py",
   "mimetype": "text/x-python",
   "name": "python",
   "nbconvert_exporter": "python",
   "pygments_lexer": "ipython3",
   "version": "3.6.8"
  }
 },
 "nbformat": 4,
 "nbformat_minor": 4
}
