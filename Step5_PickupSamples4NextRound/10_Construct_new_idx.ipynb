{
 "cells": [
  {
   "cell_type": "code",
   "execution_count": 1,
   "metadata": {},
   "outputs": [],
   "source": [
    "## system package\n",
    "%reload_ext autoreload\n",
    "%autoreload 2\n",
    "%matplotlib inline\n",
    "import os, sys\n",
    "os.environ[\"CUDA_DEVICE_ORDER\"]=\"PCI_BUS_ID\"\n",
    "os.environ[\"CUDA_VISIBLE_DEVICES\"]=\"4\"  # specify which GPU(s) to be used\n",
    "sys.path.append('../Step4_Training/')\n",
    "sys.path.append('../')\n",
    "\n",
    "from pathlib import Path\n",
    "import warnings\n",
    "warnings.filterwarnings(\"ignore\")\n",
    "import numpy as np\n",
    "import pandas as pd\n",
    "import matplotlib.pyplot as plt\n",
    "from tqdm.notebook import tqdm_notebook as tqdm\n",
    "from sklearn.metrics import cohen_kappa_score\n",
    "\n",
    "from input.inputPipeline_stiching import data_transform, PandaPatchDataset, crossValDataloader\n",
    "from utiles.radam import *\n",
    "from utiles.utils import *\n",
    "from utiles.flatten_cosanneal import *\n",
    "from Model.efficientnet.model import EfficientNet as Model"
   ]
  },
  {
   "cell_type": "code",
   "execution_count": 2,
   "metadata": {},
   "outputs": [],
   "source": [
    "fold = 1\n",
    "portion = 60\n",
    "mode = f\"curriculum_easy_{portion}idx\"\n",
    "idxs = np.load(f\"./selected_idx_{mode}_{fold}.npy\", allow_pickle=True).item()\n",
    "keys = ['exclude_noisy', 'include_expert', 'include_auto']"
   ]
  },
  {
   "cell_type": "markdown",
   "metadata": {},
   "source": [
    "### Make Predictions"
   ]
  },
  {
   "cell_type": "code",
   "execution_count": 3,
   "metadata": {},
   "outputs": [],
   "source": [
    "# csv_file = \"../Data_CSV/Train_Data.csv\"\n",
    "csv_file = f\"../Data_CSV/Train_Data_curriculum_easy_{portion}idx_{fold}.csv\"\n",
    "data_dir = '../../tile_concat_wy/input/panda-36x256x256-tiles-data-opt/train'\n",
    "sz = 256\n",
    "bs = 6\n",
    "tsfm = None"
   ]
  },
  {
   "cell_type": "code",
   "execution_count": 4,
   "metadata": {},
   "outputs": [
    {
     "name": "stdout",
     "output_type": "stream",
     "text": [
      "Loaded pretrained weights for efficientnet-b0\n"
     ]
    },
    {
     "data": {
      "text/plain": [
       "<All keys matched successfully>"
      ]
     },
     "execution_count": 4,
     "metadata": {},
     "output_type": "execute_result"
    }
   ],
   "source": [
    "model = Model.from_pretrained('efficientnet-b0', num_classes = 5).cuda()\n",
    "model_path = f'../Step4_Training/weights/Resnext50_36patch_constant_lr_{mode}/Resnext50_36patch_constant_lr_{mode}_{fold}_best.pth.tar'\n",
    "pretrained_dict = torch.load(model_path)\n",
    "# pretrained_dict = pretrained_dict['state_dict']\n",
    "model_dict = model.state_dict()\n",
    "pretrained_dict = {k: v for k, v in pretrained_dict.items() if k in model_dict}\n",
    "model_dict.update(pretrained_dict)\n",
    "model.load_state_dict(pretrained_dict)"
   ]
  },
  {
   "cell_type": "code",
   "execution_count": 5,
   "metadata": {},
   "outputs": [
    {
     "data": {
      "application/vnd.jupyter.widget-view+json": {
       "model_id": "3287d84171ce482289937394b15b7871",
       "version_major": 2,
       "version_minor": 0
      },
      "text/plain": [
       "HBox(children=(FloatProgress(value=0.0, max=13.0), HTML(value='')))"
      ]
     },
     "metadata": {},
     "output_type": "display_data"
    },
    {
     "name": "stdout",
     "output_type": "stream",
     "text": [
      "\n",
      "kappa score for exclude_noisy: 0.886754617414248\n"
     ]
    },
    {
     "data": {
      "application/vnd.jupyter.widget-view+json": {
       "model_id": "86b66df5fa414e97bcb3eed00e3e251c",
       "version_major": 2,
       "version_minor": 0
      },
      "text/plain": [
       "HBox(children=(FloatProgress(value=0.0, max=14.0), HTML(value='')))"
      ]
     },
     "metadata": {},
     "output_type": "display_data"
    },
    {
     "name": "stdout",
     "output_type": "stream",
     "text": [
      "\n",
      "kappa score for include_expert: 0.6996625421822271\n"
     ]
    },
    {
     "data": {
      "application/vnd.jupyter.widget-view+json": {
       "model_id": "07caa068b7814e4cbc6998ff32d6c24c",
       "version_major": 2,
       "version_minor": 0
      },
      "text/plain": [
       "HBox(children=(FloatProgress(value=0.0, max=10.0), HTML(value='')))"
      ]
     },
     "metadata": {},
     "output_type": "display_data"
    },
    {
     "name": "stdout",
     "output_type": "stream",
     "text": [
      "\n",
      "kappa score for include_auto: 0.7017322266329844\n"
     ]
    }
   ],
   "source": [
    "model.eval()\n",
    "for key in keys:\n",
    "    dataset = PandaPatchDataset(csv_file, data_dir, sz, transform=tsfm, N = 36, rand = False)\n",
    "    idx = idxs.get(key)\n",
    "    dataset_sub = torch.utils.data.Subset(dataset, idx)\n",
    "    dataloader = torch.utils.data.DataLoader(dataset_sub, batch_size = bs, shuffle = False, num_workers = 4, pin_memory=True)\n",
    "    predictions = []\n",
    "    img_idxs = []\n",
    "    gth = []\n",
    "    for i, data in enumerate(tqdm(dataloader)):\n",
    "        with torch.no_grad():\n",
    "            img, img_idx, grade = data['img'].cuda().float(), data['idx'], data['isup_grade']\n",
    "            preds = model(img)\n",
    "            preds = preds.sigmoid().sum(1).round().cpu()\n",
    "            predictions.append(preds)\n",
    "            img_idxs.append(img_idx)\n",
    "            gth.append(grade.sum(1))\n",
    "\n",
    "    predictions_ = torch.cat(predictions).numpy()\n",
    "    img_idxs_ = torch.cat(img_idxs).numpy()\n",
    "    gth_ = torch.cat(gth).numpy()\n",
    "    kappa = cohen_kappa_score(predictions_, gth_, weights=\"quadratic\")\n",
    "    print(f\"kappa score for {key}: {kappa}\")"
   ]
  },
  {
   "cell_type": "code",
   "execution_count": 6,
   "metadata": {},
   "outputs": [
    {
     "data": {
      "text/plain": [
       "(57, 57)"
      ]
     },
     "execution_count": 6,
     "metadata": {},
     "output_type": "execute_result"
    }
   ],
   "source": [
    "len(predictions_), len(img_idxs_)"
   ]
  },
  {
   "cell_type": "markdown",
   "metadata": {},
   "source": [
    "### Construct new csv file"
   ]
  },
  {
   "cell_type": "code",
   "execution_count": 7,
   "metadata": {},
   "outputs": [],
   "source": [
    "df = pd.read_csv(csv_file)\n",
    "df_temp = df.iloc[img_idxs_]\n",
    "# df_temp[\"isup_grade\"] = predictions_\n",
    "df.to_csv(f\"../Data_CSV/Train_Data_curriculum_easy_{portion + 10}idx_{fold}.csv\")"
   ]
  },
  {
   "cell_type": "markdown",
   "metadata": {},
   "source": [
    "### Construct new idx file"
   ]
  },
  {
   "cell_type": "code",
   "execution_count": 8,
   "metadata": {},
   "outputs": [],
   "source": [
    "idx_in_pool = set(np.load(f\"../Idxs/{mode}_{fold}.npy\"))\n",
    "idx = list(idx_in_pool.difference(set(idxs[\"exclude_noisy\"])))\n",
    "idx = list(set(idx + list(idxs[\"include_auto\"]) + list(idxs[\"include_expert\"])))\n",
    "np.save(f\"../Idxs/curriculum_easy_{portion+10}idx_{fold}.npy\", np.asarray(idx))"
   ]
  },
  {
   "cell_type": "code",
   "execution_count": 9,
   "metadata": {},
   "outputs": [
    {
     "data": {
      "text/plain": [
       "7412"
      ]
     },
     "execution_count": 9,
     "metadata": {},
     "output_type": "execute_result"
    }
   ],
   "source": [
    "len(idx)"
   ]
  }
 ],
 "metadata": {
  "kernelspec": {
   "display_name": "Python 3",
   "language": "python",
   "name": "python3"
  },
  "language_info": {
   "codemirror_mode": {
    "name": "ipython",
    "version": 3
   },
   "file_extension": ".py",
   "mimetype": "text/x-python",
   "name": "python",
   "nbconvert_exporter": "python",
   "pygments_lexer": "ipython3",
   "version": "3.6.8"
  }
 },
 "nbformat": 4,
 "nbformat_minor": 4
}
