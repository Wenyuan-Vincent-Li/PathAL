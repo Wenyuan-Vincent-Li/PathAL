{
 "cells": [
  {
   "cell_type": "code",
   "execution_count": 1,
   "metadata": {},
   "outputs": [],
   "source": [
    "## system package\n",
    "%reload_ext autoreload\n",
    "%autoreload 2\n",
    "%matplotlib inline\n",
    "import os, sys\n",
    "os.environ[\"CUDA_DEVICE_ORDER\"]=\"PCI_BUS_ID\"\n",
    "os.environ[\"CUDA_VISIBLE_DEVICES\"]=\"1\"  # specify which GPU(s) to be used\n",
    "sys.path.append('../Step4_Training/')\n",
    "sys.path.append('../')\n",
    "\n",
    "from pathlib import Path\n",
    "import warnings\n",
    "warnings.filterwarnings(\"ignore\")\n",
    "import numpy as np\n",
    "import pandas as pd\n",
    "import matplotlib.pyplot as plt\n",
    "from tqdm.notebook import tqdm_notebook as tqdm\n",
    "from sklearn.metrics import cohen_kappa_score\n",
    "\n",
    "from input.inputPipeline_stiching import data_transform, PandaPatchDataset, crossValDataloader\n",
    "from utiles.radam import *\n",
    "from utiles.utils import *\n",
    "from utiles.flatten_cosanneal import *\n",
    "from Model.efficientnet.model import EfficientNet as Model"
   ]
  },
  {
   "cell_type": "code",
   "execution_count": 2,
   "metadata": {},
   "outputs": [],
   "source": [
    "data_dir = '../../tile_concat_wy/input/panda-36x256x256-tiles-data-opt/train'\n",
    "csv_file = '../Train_Data.csv'"
   ]
  },
  {
   "cell_type": "code",
   "execution_count": 3,
   "metadata": {},
   "outputs": [],
   "source": [
    "fold = 0\n",
    "mode = \"curriculum_easy_10idx\"\n",
    "sz = 256\n",
    "bs = 6\n",
    "tsfm = None\n",
    "dataset = PandaPatchDataset(csv_file, data_dir, sz, transform=tsfm, N = 36, rand = False)\n",
    "dataloader = torch.utils.data.DataLoader(dataset, batch_size = bs, shuffle = False, num_workers = 4)"
   ]
  },
  {
   "cell_type": "code",
   "execution_count": 4,
   "metadata": {},
   "outputs": [
    {
     "name": "stdout",
     "output_type": "stream",
     "text": [
      "Loaded pretrained weights for efficientnet-b0\n"
     ]
    },
    {
     "data": {
      "text/plain": [
       "<All keys matched successfully>"
      ]
     },
     "execution_count": 4,
     "metadata": {},
     "output_type": "execute_result"
    }
   ],
   "source": [
    "model = Model.from_pretrained('efficientnet-b0', num_classes = 5).cuda()\n",
    "model_path = f'../Step4_Training/weights/Resnext50_36patch_constant_lr_{mode}/Resnext50_36patch_constant_lr_{mode}_{fold}_best.pth.tar'\n",
    "pretrained_dict = torch.load(model_path)\n",
    "# pretrained_dict = pretrained_dict['state_dict']\n",
    "model_dict = model.state_dict()\n",
    "pretrained_dict = {k: v for k, v in pretrained_dict.items() if k in model_dict}\n",
    "model_dict.update(pretrained_dict)\n",
    "model.load_state_dict(pretrained_dict)"
   ]
  },
  {
   "cell_type": "code",
   "execution_count": 9,
   "metadata": {},
   "outputs": [
    {
     "data": {
      "application/vnd.jupyter.widget-view+json": {
       "model_id": "2dcecf53062a40669691e290f994eff8",
       "version_major": 2,
       "version_minor": 0
      },
      "text/plain": [
       "HBox(children=(FloatProgress(value=0.0, max=1663.0), HTML(value='')))"
      ]
     },
     "metadata": {},
     "output_type": "display_data"
    },
    {
     "name": "stdout",
     "output_type": "stream",
     "text": [
      "\n"
     ]
    }
   ],
   "source": [
    "img_features = []\n",
    "providers = []\n",
    "for i, data in enumerate(tqdm(dataloader)):\n",
    "    with torch.no_grad():\n",
    "        img = data['img']\n",
    "        provider = data['datacenter']\n",
    "        feat = model.extract_features(img.cuda().float())\n",
    "        img_features.append(feat.detach())\n",
    "        providers += [int(i == 'karolinska') * 2 - 1 for i in provider] ## karolinska:1 radboud:-1\n",
    "#     if i == 5:\n",
    "#         break"
   ]
  },
  {
   "cell_type": "code",
   "execution_count": 13,
   "metadata": {},
   "outputs": [],
   "source": [
    "img_features = torch.cat(img_features,0).cpu().numpy()"
   ]
  },
  {
   "cell_type": "code",
   "execution_count": 14,
   "metadata": {},
   "outputs": [],
   "source": [
    "saved_features = np.concatenate([np.arange(len(providers)).reshape(-1,1),\n",
    "                           np.asarray(providers).reshape(-1,1), \n",
    "                           img_features], axis = 1)"
   ]
  },
  {
   "cell_type": "code",
   "execution_count": 15,
   "metadata": {},
   "outputs": [],
   "source": [
    "np.save(f\"image_features_{mode}_{fold}.npy\", saved_features)"
   ]
  }
 ],
 "metadata": {
  "kernelspec": {
   "display_name": "Python 3",
   "language": "python",
   "name": "python3"
  },
  "language_info": {
   "codemirror_mode": {
    "name": "ipython",
    "version": 3
   },
   "file_extension": ".py",
   "mimetype": "text/x-python",
   "name": "python",
   "nbconvert_exporter": "python",
   "pygments_lexer": "ipython3",
   "version": "3.6.8"
  }
 },
 "nbformat": 4,
 "nbformat_minor": 4
}
